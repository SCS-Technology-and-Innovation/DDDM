{
  "nbformat": 4,
  "nbformat_minor": 0,
  "metadata": {
    "colab": {
      "provenance": [],
      "authorship_tag": "ABX9TyMqtjcXeFJUaeK55GMBfZUx",
      "include_colab_link": true
    },
    "kernelspec": {
      "name": "python3",
      "display_name": "Python 3"
    },
    "language_info": {
      "name": "python"
    }
  },
  "cells": [
    {
      "cell_type": "markdown",
      "metadata": {
        "id": "view-in-github",
        "colab_type": "text"
      },
      "source": [
        "<a href=\"https://colab.research.google.com/github/SCS-Technology-and-Innovation/DDDM/blob/main/DESC/nonlin.ipynb\" target=\"_parent\"><img src=\"https://colab.research.google.com/assets/colab-badge.svg\" alt=\"Open In Colab\"/></a>"
      ]
    },
    {
      "cell_type": "code",
      "execution_count": 3,
      "metadata": {
        "colab": {
          "base_uri": "https://localhost:8080/",
          "height": 516
        },
        "id": "w4pQpypyOm9b",
        "outputId": "f3c725d8-252c-4886-d4ae-49feeb560d5c"
      },
      "outputs": [
        {
          "output_type": "stream",
          "name": "stdout",
          "text": [
            "Collecting numpy==1.23\n",
            "  Downloading numpy-1.23.0-cp310-cp310-manylinux_2_17_x86_64.manylinux2014_x86_64.whl (17.0 MB)\n",
            "\u001b[2K     \u001b[90m━━━━━━━━━━━━━━━━━━━━━━━━━━━━━━━━━━━━━━━━\u001b[0m \u001b[32m17.0/17.0 MB\u001b[0m \u001b[31m31.5 MB/s\u001b[0m eta \u001b[36m0:00:00\u001b[0m\n",
            "\u001b[?25hRequirement already satisfied: scipy in /usr/local/lib/python3.10/dist-packages (1.11.3)\n",
            "Collecting scipy\n",
            "  Downloading scipy-1.11.4-cp310-cp310-manylinux_2_17_x86_64.manylinux2014_x86_64.whl (36.4 MB)\n",
            "\u001b[2K     \u001b[90m━━━━━━━━━━━━━━━━━━━━━━━━━━━━━━━━━━━━━━━━\u001b[0m \u001b[32m36.4/36.4 MB\u001b[0m \u001b[31m17.0 MB/s\u001b[0m eta \u001b[36m0:00:00\u001b[0m\n",
            "\u001b[?25hInstalling collected packages: numpy, scipy\n",
            "  Attempting uninstall: numpy\n",
            "    Found existing installation: numpy 1.23.5\n",
            "    Uninstalling numpy-1.23.5:\n",
            "      Successfully uninstalled numpy-1.23.5\n",
            "  Attempting uninstall: scipy\n",
            "    Found existing installation: scipy 1.11.3\n",
            "    Uninstalling scipy-1.11.3:\n",
            "      Successfully uninstalled scipy-1.11.3\n",
            "\u001b[31mERROR: pip's dependency resolver does not currently take into account all the packages that are installed. This behaviour is the source of the following dependency conflicts.\n",
            "lida 0.0.10 requires fastapi, which is not installed.\n",
            "lida 0.0.10 requires kaleido, which is not installed.\n",
            "lida 0.0.10 requires python-multipart, which is not installed.\n",
            "lida 0.0.10 requires uvicorn, which is not installed.\n",
            "tensorflow 2.14.0 requires numpy>=1.23.5, but you have numpy 1.23.0 which is incompatible.\u001b[0m\u001b[31m\n",
            "\u001b[0mSuccessfully installed numpy-1.23.0 scipy-1.11.4\n"
          ]
        },
        {
          "output_type": "display_data",
          "data": {
            "application/vnd.colab-display-data+json": {
              "pip_warning": {
                "packages": [
                  "numpy"
                ]
              }
            }
          },
          "metadata": {}
        }
      ],
      "source": [
        "!pip install numpy==1.23 scipy -U"
      ]
    },
    {
      "cell_type": "code",
      "source": [
        "from google.colab import drive\n",
        "drive.mount('/content/drive/')"
      ],
      "metadata": {
        "colab": {
          "base_uri": "https://localhost:8080/"
        },
        "id": "nGTdyZqJPR0C",
        "outputId": "7a83ddec-0244-401d-cb16-3cc04aab5cf9"
      },
      "execution_count": 4,
      "outputs": [
        {
          "output_type": "stream",
          "name": "stdout",
          "text": [
            "Requirement already satisfied: numpy==1.23 in /usr/local/lib/python3.10/dist-packages (1.23.0)\n",
            "Requirement already satisfied: scipy in /usr/local/lib/python3.10/dist-packages (1.11.4)\n",
            "^C\n"
          ]
        }
      ]
    },
    {
      "cell_type": "code",
      "source": [
        "!apt install gcc g++ gfortran git patch wget pkg-config liblapack-dev libmetis-dev"
      ],
      "metadata": {
        "colab": {
          "base_uri": "https://localhost:8080/"
        },
        "id": "QH3eGXGyPS7N",
        "outputId": "aaf03d20-20b8-4e8b-b248-6a4508646d62"
      },
      "execution_count": 1,
      "outputs": [
        {
          "output_type": "stream",
          "name": "stdout",
          "text": [
            "Reading package lists... Done\n",
            "Building dependency tree... Done\n",
            "Reading state information... Done\n",
            "g++ is already the newest version (4:11.2.0-1ubuntu1).\n",
            "g++ set to manually installed.\n",
            "gcc is already the newest version (4:11.2.0-1ubuntu1).\n",
            "gcc set to manually installed.\n",
            "gfortran is already the newest version (4:11.2.0-1ubuntu1).\n",
            "liblapack-dev is already the newest version (3.10.0-2ubuntu1).\n",
            "patch is already the newest version (2.7.6-7build2).\n",
            "patch set to manually installed.\n",
            "pkg-config is already the newest version (0.29.2-1ubuntu3).\n",
            "wget is already the newest version (1.21.2-2ubuntu1).\n",
            "git is already the newest version (1:2.34.1-1ubuntu1.10).\n",
            "The following additional packages will be installed:\n",
            "  libmetis5\n",
            "The following NEW packages will be installed:\n",
            "  libmetis-dev libmetis5\n",
            "0 upgraded, 2 newly installed, 0 to remove and 15 not upgraded.\n",
            "Need to get 186 kB of archives.\n",
            "After this operation, 475 kB of additional disk space will be used.\n",
            "Get:1 http://archive.ubuntu.com/ubuntu jammy/universe amd64 libmetis5 amd64 5.1.0.dfsg-7build2 [181 kB]\n",
            "Get:2 http://archive.ubuntu.com/ubuntu jammy/universe amd64 libmetis-dev amd64 5.1.0.dfsg-7build2 [5,818 B]\n",
            "Fetched 186 kB in 0s (527 kB/s)\n",
            "Selecting previously unselected package libmetis5:amd64.\n",
            "(Reading database ... 121096 files and directories currently installed.)\n",
            "Preparing to unpack .../libmetis5_5.1.0.dfsg-7build2_amd64.deb ...\n",
            "Unpacking libmetis5:amd64 (5.1.0.dfsg-7build2) ...\n",
            "Selecting previously unselected package libmetis-dev.\n",
            "Preparing to unpack .../libmetis-dev_5.1.0.dfsg-7build2_amd64.deb ...\n",
            "Unpacking libmetis-dev (5.1.0.dfsg-7build2) ...\n",
            "Setting up libmetis5:amd64 (5.1.0.dfsg-7build2) ...\n",
            "Setting up libmetis-dev (5.1.0.dfsg-7build2) ...\n",
            "Processing triggers for libc-bin (2.35-0ubuntu3.4) ...\n",
            "/sbin/ldconfig.real: /usr/local/lib/libtbbmalloc_proxy.so.2 is not a symbolic link\n",
            "\n",
            "/sbin/ldconfig.real: /usr/local/lib/libtbbbind_2_0.so.3 is not a symbolic link\n",
            "\n",
            "/sbin/ldconfig.real: /usr/local/lib/libtbbbind_2_5.so.3 is not a symbolic link\n",
            "\n",
            "/sbin/ldconfig.real: /usr/local/lib/libtbbbind.so.3 is not a symbolic link\n",
            "\n",
            "/sbin/ldconfig.real: /usr/local/lib/libtbb.so.12 is not a symbolic link\n",
            "\n",
            "/sbin/ldconfig.real: /usr/local/lib/libtbbmalloc.so.2 is not a symbolic link\n",
            "\n"
          ]
        }
      ]
    },
    {
      "cell_type": "code",
      "source": [
        "%%bash\n",
        "\n",
        "mkdir /usr/bin/file/\n",
        "\n",
        "# Clone ThirdParty-HSL\n",
        "git clone https://github.com/coin-or-tools/ThirdParty-HSL.git\n",
        "\n",
        "# Copy HSL to ThirdParty-HSL\n",
        "cp -R /content/drive/MyDrive/solver/coinhsl/ /content/ThirdParty-HSL/\n",
        "\n",
        "# Install ThirdParty-HSL\n",
        "cd /content/ThirdParty-HSL/\n",
        "mkdir ./build\n",
        "cd /content/ThirdParty-HSL/build\n",
        "/content/ThirdParty-HSL/configure\n",
        "make\n",
        "sudo make install\n",
        "cd /content/"
      ],
      "metadata": {
        "colab": {
          "base_uri": "https://localhost:8080/"
        },
        "id": "_99hDFavOync",
        "outputId": "0d6da97b-fca3-435e-c648-dfdf4e1ebe8f"
      },
      "execution_count": 2,
      "outputs": [
        {
          "output_type": "stream",
          "name": "stdout",
          "text": [
            "checking build system type... x86_64-pc-linux-gnu\n",
            "checking host system type... x86_64-pc-linux-gnu\n",
            "checking for a BSD-compatible install... /usr/bin/install -c\n",
            "checking whether build environment is sane... yes\n",
            "checking for a race-free mkdir -p... /usr/bin/mkdir -p\n",
            "checking for gawk... no\n",
            "checking for mawk... mawk\n",
            "checking whether make sets $(MAKE)... yes\n",
            "checking whether make supports nested variables... yes\n",
            "checking whether to enable maintainer-specific portions of Makefiles... no\n",
            "checking whether make supports the include directive... yes (GNU style)\n",
            "checking for gcc... gcc\n",
            "checking whether the C compiler works... yes\n",
            "checking for C compiler default output file name... a.out\n",
            "checking for suffix of executables... \n",
            "checking whether we are cross compiling... no\n",
            "checking for suffix of object files... o\n",
            "checking whether the compiler supports GNU C... yes\n",
            "checking whether gcc accepts -g... yes\n",
            "checking for gcc option to enable C11 features... none needed\n",
            "checking whether gcc understands -c and -o together... yes\n",
            "checking dependency style of gcc... gcc3\n",
            "checking for gfortran... gfortran\n",
            "checking whether the compiler supports GNU Fortran 77... yes\n",
            "checking whether gfortran accepts -g... yes\n",
            "checking how to get verbose linking output from gfortran... -v\n",
            "checking for Fortran 77 libraries of gfortran...  -L/usr/lib/gcc/x86_64-linux-gnu/11 -L/usr/lib/gcc/x86_64-linux-gnu/11/../../../x86_64-linux-gnu -L/usr/lib/gcc/x86_64-linux-gnu/11/../../../../lib -L/lib/x86_64-linux-gnu -L/lib/../lib -L/usr/lib/x86_64-linux-gnu -L/usr/lib/../lib -L/usr/local/cuda/lib64/stubs -L/usr/lib/gcc/x86_64-linux-gnu/11/../../.. -lgfortran -lm -lquadmath\n",
            "checking for dummy main to link with Fortran 77 libraries... none\n",
            "checking for Fortran 77 name-mangling scheme... lower case, underscore, no extra underscore\n",
            "checking whether gfortran understands -c and -o together... yes\n",
            "checking for gfortran... gfortran\n",
            "checking whether the compiler supports GNU Fortran... yes\n",
            "checking whether gfortran accepts -g... yes\n",
            "checking whether gfortran understands -c and -o together... yes\n",
            "checking how to print strings... printf\n",
            "checking for a sed that does not truncate output... /usr/bin/sed\n",
            "checking for grep that handles long lines and -e... /usr/bin/grep\n",
            "checking for egrep... /usr/bin/grep -E\n",
            "checking for fgrep... /usr/bin/grep -F\n",
            "checking for ld used by gcc... /usr/bin/ld\n",
            "checking if the linker (/usr/bin/ld) is GNU ld... yes\n",
            "checking for BSD- or MS-compatible name lister (nm)... /usr/bin/nm -B\n",
            "checking the name lister (/usr/bin/nm -B) interface... BSD nm\n",
            "checking whether ln -s works... yes\n",
            "checking the maximum length of command line arguments... 1572864\n",
            "checking how to convert x86_64-pc-linux-gnu file names to x86_64-pc-linux-gnu format... func_convert_file_noop\n",
            "checking how to convert x86_64-pc-linux-gnu file names to toolchain format... func_convert_file_noop\n",
            "checking for /usr/bin/ld option to reload object files... -r\n",
            "checking for file... file\n",
            "checking for objdump... objdump\n",
            "checking how to recognize dependent libraries... pass_all\n",
            "checking for dlltool... no\n",
            "checking how to associate runtime and link libraries... printf %s\\n\n",
            "checking for ar... ar\n",
            "checking for archiver @FILE support... @\n",
            "checking for strip... strip\n",
            "checking for ranlib... ranlib\n",
            "checking command to parse /usr/bin/nm -B output from gcc object... ok\n",
            "checking for sysroot... no\n",
            "checking for a working dd... /usr/bin/dd\n",
            "checking how to truncate binary pipes... /usr/bin/dd bs=4096 count=1\n",
            "checking for mt... no\n",
            "checking if : is a manifest tool... no\n",
            "checking for stdio.h... yes\n",
            "checking for stdlib.h... yes\n",
            "checking for string.h... yes\n",
            "checking for inttypes.h... yes\n",
            "checking for stdint.h... yes\n",
            "checking for strings.h... yes\n",
            "checking for sys/stat.h... yes\n",
            "checking for sys/types.h... yes\n",
            "checking for unistd.h... yes\n",
            "checking for dlfcn.h... yes\n",
            "checking the archiver (ar) interface... ar\n",
            "checking for objdir... .libs\n",
            "checking if gcc supports -fno-rtti -fno-exceptions... no\n",
            "checking for gcc option to produce PIC... -fPIC -DPIC\n",
            "checking if gcc PIC flag -fPIC -DPIC works... yes\n",
            "checking if gcc static flag -static works... yes\n",
            "checking if gcc supports -c -o file.o... yes\n",
            "checking if gcc supports -c -o file.o... (cached) yes\n",
            "checking whether the gcc linker (/usr/bin/ld -m elf_x86_64) supports shared libraries... yes\n",
            "checking whether -lc should be explicitly linked in... no\n",
            "checking dynamic linker characteristics... GNU/Linux ld.so\n",
            "checking how to hardcode library paths into programs... immediate\n",
            "checking whether stripping libraries is possible... yes\n",
            "checking if libtool supports shared libraries... yes\n",
            "checking whether to build shared libraries... yes\n",
            "checking whether to build static libraries... no\n",
            "checking if libtool supports shared libraries... yes\n",
            "checking whether to build shared libraries... yes\n",
            "checking whether to build static libraries... no\n",
            "checking for gfortran option to produce PIC... -fPIC\n",
            "checking if gfortran PIC flag -fPIC works... yes\n",
            "checking if gfortran static flag -static works... yes\n",
            "checking if gfortran supports -c -o file.o... yes\n",
            "checking if gfortran supports -c -o file.o... (cached) yes\n",
            "checking whether the gfortran linker (/usr/bin/ld -m elf_x86_64) supports shared libraries... yes\n",
            "checking dynamic linker characteristics... (cached) GNU/Linux ld.so\n",
            "checking how to hardcode library paths into programs... immediate\n",
            "checking if libtool supports shared libraries... yes\n",
            "checking whether to build shared libraries... yes\n",
            "checking whether to build static libraries... no\n",
            "checking for gfortran option to produce PIC... -fPIC\n",
            "checking if gfortran PIC flag -fPIC works... yes\n",
            "checking if gfortran static flag -static works... yes\n",
            "checking if gfortran supports -c -o file.o... yes\n",
            "checking if gfortran supports -c -o file.o... (cached) yes\n",
            "checking whether the gfortran linker (/usr/bin/ld -m elf_x86_64) supports shared libraries... yes\n",
            "checking dynamic linker characteristics... (cached) GNU/Linux ld.so\n",
            "checking how to hardcode library paths into programs... immediate\n",
            "configure: libtool version info: -version-number 2:2:3\n",
            "checking for pkgconf... no\n",
            "checking for pkg-config... pkg-config\n",
            "checking pkg-config is at least version 0.16.0... yes: 0.29.2\n",
            "configure: pkg-config path is \"/usr/local/lib/pkgconfig:\"\n",
            "checking for MC19... no\n",
            "checking for MA27... no\n",
            "checking for MA28... no\n",
            "checking for MA57... no\n",
            "checking for MA77... no\n",
            "checking for MA86... no\n",
            "checking for MA97... no\n",
            "checking for MC19S... no\n",
            "checking for MA27S... no\n",
            "checking for MA28S... no\n",
            "checking for MA57S... no\n",
            "checking for MA77S... no\n",
            "checking for MA86S... no\n",
            "checking for MA97S... no\n",
            "checking for C interface to MC68... no\n",
            "checking that generated files are newer than configure... done\n",
            "configure: creating ./config.status\n",
            "config.status: creating Makefile\n",
            "config.status: creating coinhsl.pc\n",
            "config.status: creating config.h\n",
            "config.status: creating CoinHslConfig.h\n",
            "config.status: executing depfiles commands\n",
            "config.status: executing libtool commands\n",
            "configure: Configuration of CoinHSL successful\n",
            "make  all-am\n",
            "make[1]: Entering directory '/content/ThirdParty-HSL/build'\n",
            "  CC       metis_adapter.lo\n",
            "  F77LD    libcoinhsl.la\n",
            "make[1]: Leaving directory '/content/ThirdParty-HSL/build'\n",
            "make[1]: Entering directory '/content/ThirdParty-HSL/build'\n",
            " /usr/bin/mkdir -p '/usr/local/lib'\n",
            " /bin/bash ./libtool   --mode=install /usr/bin/install -c   libcoinhsl.la '/usr/local/lib'\n",
            "libtool: install: /usr/bin/install -c .libs/libcoinhsl.so.2.2.3 /usr/local/lib/libcoinhsl.so.2.2.3\n",
            "libtool: install: (cd /usr/local/lib && { ln -s -f libcoinhsl.so.2.2.3 libcoinhsl.so.2 || { rm -f libcoinhsl.so.2 && ln -s libcoinhsl.so.2.2.3 libcoinhsl.so.2; }; })\n",
            "libtool: install: (cd /usr/local/lib && { ln -s -f libcoinhsl.so.2.2.3 libcoinhsl.so || { rm -f libcoinhsl.so && ln -s libcoinhsl.so.2.2.3 libcoinhsl.so; }; })\n",
            "libtool: install: /usr/bin/install -c .libs/libcoinhsl.lai /usr/local/lib/libcoinhsl.la\n",
            "libtool: finish: PATH=\"/usr/local/sbin:/usr/local/bin:/usr/sbin:/usr/bin:/sbin:/bin:/snap/bin:/sbin\" ldconfig -n /usr/local/lib\n",
            "----------------------------------------------------------------------\n",
            "Libraries have been installed in:\n",
            "   /usr/local/lib\n",
            "\n",
            "If you ever happen to want to link against installed libraries\n",
            "in a given directory, LIBDIR, you must either use libtool, and\n",
            "specify the full pathname of the library, or use the '-LLIBDIR'\n",
            "flag during linking and do at least one of the following:\n",
            "   - add LIBDIR to the 'LD_LIBRARY_PATH' environment variable\n",
            "     during execution\n",
            "   - add LIBDIR to the 'LD_RUN_PATH' environment variable\n",
            "     during linking\n",
            "   - use the '-Wl,-rpath -Wl,LIBDIR' linker flag\n",
            "   - have your system administrator add LIBDIR to '/etc/ld.so.conf'\n",
            "\n",
            "See any operating system documentation about shared libraries for\n",
            "more information, such as the ld(1) and ld.so(8) manual pages.\n",
            "----------------------------------------------------------------------\n",
            " /usr/bin/mkdir -p '/usr/local/include/coin-or/hsl'\n",
            " /usr/bin/install -c -m 644 CoinHslConfig.h '/usr/local/include/coin-or/hsl'\n",
            " /usr/bin/mkdir -p '/usr/local/lib/pkgconfig'\n",
            " /usr/bin/install -c -m 644 coinhsl.pc '/usr/local/lib/pkgconfig'\n",
            "make[1]: Leaving directory '/content/ThirdParty-HSL/build'\n"
          ]
        },
        {
          "output_type": "stream",
          "name": "stderr",
          "text": [
            "mkdir: cannot create directory ‘/usr/bin/file/’: File exists\n",
            "Cloning into 'ThirdParty-HSL'...\n",
            "cp: cannot stat '/content/drive/MyDrive/solver/coinhsl/': No such file or directory\n",
            "/sbin/ldconfig.real: /usr/local/lib/libtbbmalloc_proxy.so.2 is not a symbolic link\n",
            "\n",
            "/sbin/ldconfig.real: /usr/local/lib/libtbbbind_2_0.so.3 is not a symbolic link\n",
            "\n",
            "/sbin/ldconfig.real: /usr/local/lib/libtbbbind_2_5.so.3 is not a symbolic link\n",
            "\n",
            "/sbin/ldconfig.real: /usr/local/lib/libtbbbind.so.3 is not a symbolic link\n",
            "\n",
            "/sbin/ldconfig.real: /usr/local/lib/libtbb.so.12 is not a symbolic link\n",
            "\n",
            "/sbin/ldconfig.real: /usr/local/lib/libtbbmalloc.so.2 is not a symbolic link\n",
            "\n"
          ]
        }
      ]
    },
    {
      "cell_type": "code",
      "source": [
        "%%bash\n",
        "# Clone IPOPT\n",
        "git clone https://github.com/coin-or/Ipopt.git\n",
        "\n",
        "# Install IPOPT\n",
        "cd /content/Ipopt/\n",
        "mkdir ./build\n",
        "cd /content/Ipopt/build\n",
        "/content/Ipopt/configure\n",
        "make\n",
        "sudo make install\n",
        "cd /content/"
      ],
      "metadata": {
        "colab": {
          "base_uri": "https://localhost:8080/"
        },
        "id": "5qibQEAVOox4",
        "outputId": "85fcf27e-fae1-449e-8a14-a581915f7660"
      },
      "execution_count": 3,
      "outputs": [
        {
          "output_type": "stream",
          "name": "stdout",
          "text": [
            "checking build system type... x86_64-pc-linux-gnu\n",
            "checking host system type... x86_64-pc-linux-gnu\n",
            "checking for a BSD-compatible install... /usr/bin/install -c\n",
            "checking whether build environment is sane... yes\n",
            "checking for a race-free mkdir -p... /usr/bin/mkdir -p\n",
            "checking for gawk... no\n",
            "checking for mawk... mawk\n",
            "checking whether make sets $(MAKE)... yes\n",
            "checking whether make supports nested variables... yes\n",
            "checking whether to enable maintainer-specific portions of Makefiles... no\n",
            "checking whether make supports the include directive... yes (GNU style)\n",
            "checking for gcc... gcc\n",
            "checking whether the C compiler works... yes\n",
            "checking for C compiler default output file name... a.out\n",
            "checking for suffix of executables... \n",
            "checking whether we are cross compiling... no\n",
            "checking for suffix of object files... o\n",
            "checking whether the compiler supports GNU C... yes\n",
            "checking whether gcc accepts -g... yes\n",
            "checking for gcc option to enable C11 features... none needed\n",
            "checking whether gcc understands -c and -o together... yes\n",
            "checking dependency style of gcc... gcc3\n",
            "checking for g++... g++\n",
            "checking whether the compiler supports GNU C++... yes\n",
            "checking whether g++ accepts -g... yes\n",
            "checking for g++ option to enable C++11 features... none needed\n",
            "checking dependency style of g++... gcc3\n",
            "checking whether g++ understands -c and -o together... yes\n",
            "checking for gfortran... gfortran\n",
            "checking whether the compiler supports GNU Fortran 77... yes\n",
            "checking whether gfortran accepts -g... yes\n",
            "checking how to get verbose linking output from gfortran... -v\n",
            "checking for Fortran 77 libraries of gfortran...  -L/usr/lib/gcc/x86_64-linux-gnu/11 -L/usr/lib/gcc/x86_64-linux-gnu/11/../../../x86_64-linux-gnu -L/usr/lib/gcc/x86_64-linux-gnu/11/../../../../lib -L/lib/x86_64-linux-gnu -L/lib/../lib -L/usr/lib/x86_64-linux-gnu -L/usr/lib/../lib -L/usr/local/cuda/lib64/stubs -L/usr/lib/gcc/x86_64-linux-gnu/11/../../.. -lgfortran -lm -lquadmath\n",
            "checking for dummy main to link with Fortran 77 libraries... none\n",
            "checking for Fortran 77 name-mangling scheme... lower case, underscore, no extra underscore\n",
            "checking whether gfortran understands -c and -o together... yes\n",
            "checking how to print strings... printf\n",
            "checking for a sed that does not truncate output... /usr/bin/sed\n",
            "checking for grep that handles long lines and -e... /usr/bin/grep\n",
            "checking for egrep... /usr/bin/grep -E\n",
            "checking for fgrep... /usr/bin/grep -F\n",
            "checking for ld used by gcc... /usr/bin/ld\n",
            "checking if the linker (/usr/bin/ld) is GNU ld... yes\n",
            "checking for BSD- or MS-compatible name lister (nm)... /usr/bin/nm -B\n",
            "checking the name lister (/usr/bin/nm -B) interface... BSD nm\n",
            "checking whether ln -s works... yes\n",
            "checking the maximum length of command line arguments... 1572864\n",
            "checking how to convert x86_64-pc-linux-gnu file names to x86_64-pc-linux-gnu format... func_convert_file_noop\n",
            "checking how to convert x86_64-pc-linux-gnu file names to toolchain format... func_convert_file_noop\n",
            "checking for /usr/bin/ld option to reload object files... -r\n",
            "checking for file... file\n",
            "checking for objdump... objdump\n",
            "checking how to recognize dependent libraries... pass_all\n",
            "checking for dlltool... no\n",
            "checking how to associate runtime and link libraries... printf %s\\n\n",
            "checking for ar... ar\n",
            "checking for archiver @FILE support... @\n",
            "checking for strip... strip\n",
            "checking for ranlib... ranlib\n",
            "checking command to parse /usr/bin/nm -B output from gcc object... ok\n",
            "checking for sysroot... no\n",
            "checking for a working dd... /usr/bin/dd\n",
            "checking how to truncate binary pipes... /usr/bin/dd bs=4096 count=1\n",
            "checking for mt... no\n",
            "checking if : is a manifest tool... no\n",
            "checking for stdio.h... yes\n",
            "checking for stdlib.h... yes\n",
            "checking for string.h... yes\n",
            "checking for inttypes.h... yes\n",
            "checking for stdint.h... yes\n",
            "checking for strings.h... yes\n",
            "checking for sys/stat.h... yes\n",
            "checking for sys/types.h... yes\n",
            "checking for unistd.h... yes\n",
            "checking for dlfcn.h... yes\n",
            "checking the archiver (ar) interface... ar\n",
            "checking for objdir... .libs\n",
            "checking if gcc supports -fno-rtti -fno-exceptions... no\n",
            "checking for gcc option to produce PIC... -fPIC -DPIC\n",
            "checking if gcc PIC flag -fPIC -DPIC works... yes\n",
            "checking if gcc static flag -static works... yes\n",
            "checking if gcc supports -c -o file.o... yes\n",
            "checking if gcc supports -c -o file.o... (cached) yes\n",
            "checking whether the gcc linker (/usr/bin/ld -m elf_x86_64) supports shared libraries... yes\n",
            "checking whether -lc should be explicitly linked in... no\n",
            "checking dynamic linker characteristics... GNU/Linux ld.so\n",
            "checking how to hardcode library paths into programs... immediate\n",
            "checking whether stripping libraries is possible... yes\n",
            "checking if libtool supports shared libraries... yes\n",
            "checking whether to build shared libraries... yes\n",
            "checking whether to build static libraries... no\n",
            "checking how to run the C++ preprocessor... g++ -E\n",
            "checking for ld used by g++... /usr/bin/ld -m elf_x86_64\n",
            "checking if the linker (/usr/bin/ld -m elf_x86_64) is GNU ld... yes\n",
            "checking whether the g++ linker (/usr/bin/ld -m elf_x86_64) supports shared libraries... yes\n",
            "checking for g++ option to produce PIC... -fPIC -DPIC\n",
            "checking if g++ PIC flag -fPIC -DPIC works... yes\n",
            "checking if g++ static flag -static works... yes\n",
            "checking if g++ supports -c -o file.o... yes\n",
            "checking if g++ supports -c -o file.o... (cached) yes\n",
            "checking whether the g++ linker (/usr/bin/ld -m elf_x86_64) supports shared libraries... yes\n",
            "checking dynamic linker characteristics... (cached) GNU/Linux ld.so\n",
            "checking how to hardcode library paths into programs... immediate\n",
            "checking if libtool supports shared libraries... yes\n",
            "checking whether to build shared libraries... yes\n",
            "checking whether to build static libraries... no\n",
            "checking for gfortran option to produce PIC... -fPIC\n",
            "checking if gfortran PIC flag -fPIC works... yes\n",
            "checking if gfortran static flag -static works... yes\n",
            "checking if gfortran supports -c -o file.o... yes\n",
            "checking if gfortran supports -c -o file.o... (cached) yes\n",
            "checking whether the gfortran linker (/usr/bin/ld -m elf_x86_64) supports shared libraries... yes\n",
            "checking dynamic linker characteristics... (cached) GNU/Linux ld.so\n",
            "checking how to hardcode library paths into programs... immediate\n",
            "configure: libtool version info: -version-number 3:14:14\n",
            "configure: Assuming that CXXLIBS is -lstdc++ -lm.\n",
            "configure: configuring doxygen documentation options\n",
            "checking for doxygen... no\n",
            "checking for latex... no\n",
            "checking for dot... YES\n",
            "checking for library containing cos... -lm\n",
            "checking for pkgconf... no\n",
            "checking for pkg-config... pkg-config\n",
            "checking pkg-config is at least version 0.16.0... yes: 0.29.2\n",
            "configure: pkg-config path is \"/usr/local/lib/pkgconfig:\"\n",
            "checking for LAPACK... yes: Intel MKL (-lmkl_intel_lp64 -lmkl_sequential -lmkl_core -lm)\n",
            "checking for package ASL... no\n",
            "checking for package Mumps... no\n",
            "checking for MPI_Initialized... no\n",
            "checking for package HSL... yes\n",
            "checking for function ma27ad_ in -L/usr/local/lib -lcoinhsl   ... no\n",
            "checking for function ma27ad in -L/usr/local/lib -lcoinhsl   ... no\n",
            "checking for function MA27AD_ in -L/usr/local/lib -lcoinhsl   ... no\n",
            "checking for function MA27AD in -L/usr/local/lib -lcoinhsl   ... no\n",
            "checking for function ma27ad__ in -L/usr/local/lib -lcoinhsl   ... no\n",
            "checking for function ma27ad_ in -L/usr/local/lib -lcoinhsl   ... no\n",
            "checking for function MA27AD__ in -L/usr/local/lib -lcoinhsl   ... no\n",
            "checking for function MA27AD_ in -L/usr/local/lib -lcoinhsl   ... no\n"
          ]
        },
        {
          "output_type": "stream",
          "name": "stderr",
          "text": [
            "Cloning into 'Ipopt'...\n",
            "configure: error: Provided package HSL is not working or does not contain MA27. See config.log for details on failed checks.\n",
            "make: *** No targets specified and no makefile found.  Stop.\n",
            "make: *** No rule to make target 'install'.  Stop.\n"
          ]
        }
      ]
    },
    {
      "cell_type": "code",
      "source": [
        "import os\n",
        "os.environ['PKG_CONFIG_PATH'] = '/usr/local/lib/pkgconfig'\n",
        "os.environ['PATH'] += ':/usr/local/bin:/usr/local/lib:/usr/lib'\n",
        "os.environ['LD_LIBRARY_PATH'] += ':/usr/local/lib:/usr/lib'"
      ],
      "metadata": {
        "id": "0TAvUcyoPtJe"
      },
      "execution_count": 4,
      "outputs": []
    },
    {
      "cell_type": "code",
      "source": [
        "%%bash\n",
        "pip install cyipopt"
      ],
      "metadata": {
        "colab": {
          "base_uri": "https://localhost:8080/"
        },
        "id": "hpNZ3DqNPwdx",
        "outputId": "c89ebdb5-336f-47a5-d4ba-4f73826e44ea"
      },
      "execution_count": 5,
      "outputs": [
        {
          "output_type": "stream",
          "name": "stdout",
          "text": [
            "Collecting cyipopt\n",
            "  Downloading cyipopt-1.3.0.tar.gz (63 kB)\n",
            "     ━━━━━━━━━━━━━━━━━━━━━━━━━━━━━━━━━━━━━━━━ 63.4/63.4 kB 1.6 MB/s eta 0:00:00\n",
            "  Installing build dependencies: started\n",
            "  Installing build dependencies: finished with status 'done'\n",
            "  Getting requirements to build wheel: started\n",
            "  Getting requirements to build wheel: finished with status 'done'\n",
            "  Installing backend dependencies: started\n",
            "  Installing backend dependencies: finished with status 'done'\n",
            "  Preparing metadata (pyproject.toml): started\n",
            "  Preparing metadata (pyproject.toml): finished with status 'done'\n",
            "Requirement already satisfied: numpy>=1.21.5 in /usr/local/lib/python3.10/dist-packages (from cyipopt) (1.23.0)\n",
            "Building wheels for collected packages: cyipopt\n",
            "  Building wheel for cyipopt (pyproject.toml): started\n",
            "  Building wheel for cyipopt (pyproject.toml): finished with status 'done'\n",
            "  Created wheel for cyipopt: filename=cyipopt-1.3.0-cp310-cp310-linux_x86_64.whl size=605804 sha256=519631181bc2c6003df504639a79769c4f1c0cb758a27af1a4c0ce8d827315f6\n",
            "  Stored in directory: /root/.cache/pip/wheels/89/90/fe/345f47e892752e6998a3d91fc28973154229f104b58822a5b9\n",
            "Successfully built cyipopt\n",
            "Installing collected packages: cyipopt\n",
            "Successfully installed cyipopt-1.3.0\n"
          ]
        }
      ]
    },
    {
      "cell_type": "code",
      "source": [
        "import cyipopt\n",
        "from cyipopt import minimize_ipopt\n",
        "from scipy.optimize import rosen, rosen_der\n",
        "import numpy as np"
      ],
      "metadata": {
        "id": "F2JAfyRPP1V1"
      },
      "execution_count": 6,
      "outputs": []
    },
    {
      "cell_type": "code",
      "source": [
        "from scipy.optimize import rosen, rosen_der\n",
        "\n",
        "from cyipopt import minimize_ipopt\n",
        "\n",
        "x0 = [1.3, 0.7, 0.8, 1.9, 1.2]\n",
        "\n",
        "res = minimize_ipopt(rosen, x0, jac=rosen_der)\n",
        "\n",
        "print(res)"
      ],
      "metadata": {
        "colab": {
          "base_uri": "https://localhost:8080/"
        },
        "id": "fSGuc3V0P2QQ",
        "outputId": "7de36b0a-cbf7-4606-f3fe-186d50964378"
      },
      "execution_count": 7,
      "outputs": [
        {
          "output_type": "stream",
          "name": "stdout",
          "text": [
            " message: b'Algorithm terminated successfully at a locally optimal point, satisfying the convergence tolerances (can be specified by options).'\n",
            " success: True\n",
            "  status: 0\n",
            "     fun: 2.1457658477147543e-18\n",
            "       x: [ 1.000e+00  1.000e+00  1.000e+00  1.000e+00  1.000e+00]\n",
            "     nit: 37\n",
            "    info:     status: 0\n",
            "                   x: [ 1.000e+00  1.000e+00  1.000e+00  1.000e+00\n",
            "                        1.000e+00]\n",
            "                   g: []\n",
            "             obj_val: 2.1457658477147543e-18\n",
            "              mult_g: []\n",
            "            mult_x_L: [ 0.000e+00  0.000e+00  0.000e+00  0.000e+00\n",
            "                        0.000e+00]\n",
            "            mult_x_U: [ 0.000e+00  0.000e+00  0.000e+00  0.000e+00\n",
            "                        0.000e+00]\n",
            "          status_msg: b'Algorithm terminated successfully at a locally optimal point, satisfying the convergence tolerances (can be specified by options).'\n",
            "    nfev: 200\n",
            "    njev: 39\n"
          ]
        }
      ]
    }
  ]
}