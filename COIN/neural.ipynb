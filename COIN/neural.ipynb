{
  "nbformat": 4,
  "nbformat_minor": 0,
  "metadata": {
    "colab": {
      "provenance": [],
      "authorship_tag": "ABX9TyNudle5ZZu5kJtgFqBi67Jz",
      "include_colab_link": true
    },
    "kernelspec": {
      "name": "python3",
      "display_name": "Python 3"
    },
    "language_info": {
      "name": "python"
    }
  },
  "cells": [
    {
      "cell_type": "markdown",
      "metadata": {
        "id": "view-in-github",
        "colab_type": "text"
      },
      "source": [
        "<a href=\"https://colab.research.google.com/github/SCS-Technology-and-Innovation/DDDM/blob/main/COIN/neural.ipynb\" target=\"_parent\"><img src=\"https://colab.research.google.com/assets/colab-badge.svg\" alt=\"Open In Colab\"/></a>"
      ]
    },
    {
      "cell_type": "markdown",
      "source": [
        "# How deep\n",
        "\n",
        "Let's reuse our pseudorandom digit data from last module."
      ],
      "metadata": {
        "id": "wTyRY3p5ac5Z"
      }
    },
    {
      "cell_type": "code",
      "source": [
        "import numpy as np\n",
        "import pandas as pd\n",
        "from io import StringIO\n",
        "from random import randint"
      ],
      "metadata": {
        "id": "PXhM1YGbaQhe"
      },
      "execution_count": null,
      "outputs": []
    },
    {
      "cell_type": "code",
      "source": [
        "text = '''g b g b w b b w b b w b g b g\n",
        "w w g w w b w w b w w b w w g\n",
        "g b b w w b g b g b w w b b g\n",
        "g b g w w b g b g w w b g b g\n",
        "b w g b w b g b b w w b w w g\n",
        "g b g b w w g b g w w b g b g\n",
        "g b g b w w b b g b w b g b g\n",
        "g b b w w b w w b w w b w w g\n",
        "g b g b w b g b g b w b g b g\n",
        "g b g b w b g b g w w b g b g\n",
        "'''\n",
        "\n",
        "template = pd.read_csv(StringIO(text), sep=' ', header = None).replace({'b': 0.99, 'g': 0.90, 'w': 0.01})\n",
        "\n",
        "r, c = 5, 3\n",
        "dim = r * c"
      ],
      "metadata": {
        "id": "BBUq46VOaXtA"
      },
      "execution_count": null,
      "outputs": []
    },
    {
      "cell_type": "markdown",
      "source": [
        "Create a dataset."
      ],
      "metadata": {
        "id": "FCIHjHevaweT"
      }
    },
    {
      "cell_type": "code",
      "source": [
        "n = 5000 # how many digits to generate\n",
        "images = []\n",
        "labels = []\n",
        "for i in range(n):\n",
        "    d = randint(0, 9) # pick a digit\n",
        "    # generate the 15 pixels into an array\n",
        "    i = np.asarray(1 * (np.random.rand(dim) < template.iloc[d]))\n",
        "    images.append(i.reshape(r, c)) # keep it as a rectangle this time\n",
        "    labels.append(d)"
      ],
      "metadata": {
        "id": "hqc_bEiJaxz7"
      },
      "execution_count": null,
      "outputs": []
    },
    {
      "cell_type": "code",
      "source": [
        "images[0]"
      ],
      "metadata": {
        "colab": {
          "base_uri": "https://localhost:8080/"
        },
        "id": "cFJewyg6bxci",
        "outputId": "b6f2457c-179d-41de-cd90-aff02062a5a5"
      },
      "execution_count": null,
      "outputs": [
        {
          "output_type": "execute_result",
          "data": {
            "text/plain": [
              "array([[1, 1, 1],\n",
              "       [1, 0, 0],\n",
              "       [1, 1, 1],\n",
              "       [1, 0, 1],\n",
              "       [1, 1, 1]])"
            ]
          },
          "metadata": {},
          "execution_count": 67
        }
      ]
    },
    {
      "cell_type": "code",
      "source": [
        "labels[:3]"
      ],
      "metadata": {
        "colab": {
          "base_uri": "https://localhost:8080/"
        },
        "id": "F4e3CShKbyfO",
        "outputId": "47e5d9ea-58bb-4d48-ec90-e6298bf5e040"
      },
      "execution_count": null,
      "outputs": [
        {
          "output_type": "execute_result",
          "data": {
            "text/plain": [
              "[6, 4, 1]"
            ]
          },
          "metadata": {},
          "execution_count": 68
        }
      ]
    },
    {
      "cell_type": "markdown",
      "source": [
        "Split this into a *training* set and a *testing* set."
      ],
      "metadata": {
        "id": "lDDiR9oFb7iw"
      }
    },
    {
      "cell_type": "code",
      "source": [
        "div = round(0.7 * n)\n",
        "training = images[:div]\n",
        "X = np.array(training)\n",
        "y = np.array(labels[:div]).T # labels as a column vector"
      ],
      "metadata": {
        "id": "VD3v2DQ0b9lZ"
      },
      "execution_count": null,
      "outputs": []
    },
    {
      "cell_type": "markdown",
      "source": [
        "Check the balance."
      ],
      "metadata": {
        "id": "sX0otnPPcL8k"
      }
    },
    {
      "cell_type": "code",
      "source": [
        "ls, cs = np.unique(y, return_counts = True)\n",
        "for (l, k) in zip(ls, cs):\n",
        "    print(f'Training with {k} images with label {l}')"
      ],
      "metadata": {
        "colab": {
          "base_uri": "https://localhost:8080/"
        },
        "id": "RnqoitDtcND5",
        "outputId": "7e2c5bf3-b750-4aef-bc91-5047c0e38b68"
      },
      "execution_count": null,
      "outputs": [
        {
          "output_type": "stream",
          "name": "stdout",
          "text": [
            "Training with 362 images with label 0\n",
            "Training with 364 images with label 1\n",
            "Training with 354 images with label 2\n",
            "Training with 368 images with label 3\n",
            "Training with 358 images with label 4\n",
            "Training with 327 images with label 5\n",
            "Training with 341 images with label 6\n",
            "Training with 342 images with label 7\n",
            "Training with 340 images with label 8\n",
            "Training with 344 images with label 9\n"
          ]
        }
      ]
    },
    {
      "cell_type": "markdown",
      "source": [
        "The rest is the testing set, then, that should also be balanced."
      ],
      "metadata": {
        "id": "UY3Zxv1mcTXq"
      }
    },
    {
      "cell_type": "code",
      "source": [
        "testing = images[div:] # the rest of it\n",
        "testX = np.array(testing)\n",
        "testy = np.array(labels[div:]).T\n",
        "ls, cs = np.unique(testy, return_counts = True)\n",
        "for (l, k) in zip(ls, cs):\n",
        "    print(f'Testing with {k} images with label {l}')"
      ],
      "metadata": {
        "colab": {
          "base_uri": "https://localhost:8080/"
        },
        "id": "AQunGSUUcWFK",
        "outputId": "1ad6f2bb-9d07-418b-f361-1e02fbb16b7a"
      },
      "execution_count": null,
      "outputs": [
        {
          "output_type": "stream",
          "name": "stdout",
          "text": [
            "Testing with 168 images with label 0\n",
            "Testing with 142 images with label 1\n",
            "Testing with 138 images with label 2\n",
            "Testing with 153 images with label 3\n",
            "Testing with 141 images with label 4\n",
            "Testing with 159 images with label 5\n",
            "Testing with 124 images with label 6\n",
            "Testing with 158 images with label 7\n",
            "Testing with 146 images with label 8\n",
            "Testing with 171 images with label 9\n"
          ]
        }
      ]
    },
    {
      "cell_type": "markdown",
      "source": [
        "[ebook](https://mcgill.on.worldcat.org/oclc/1226354941)\n",
        "\n",
        "\n",
        "\n",
        "We build a neural network by stacking **layers** with compatible input and output dimensions, each with an [activation function](https://keras.io/api/layers/activations/).\n",
        "\n",
        "\n"
      ],
      "metadata": {
        "id": "mnCsLajFj_Lr"
      }
    },
    {
      "cell_type": "code",
      "execution_count": null,
      "metadata": {
        "id": "qnZWBUIpVmmX"
      },
      "outputs": [],
      "source": [
        "# if you do this on your computer, also install TensorFlow\n",
        "import tensorflow as tf\n",
        "from keras.models import Sequential\n",
        "from keras.layers import Dense, Conv2D, Flatten"
      ]
    },
    {
      "cell_type": "code",
      "source": [
        "m = Sequential()\n",
        "m.add(Conv2D(5, (3, 3), input_shape=(5, 3, 1), padding = 'valid')) # input layer that looks at 3x3 neighborhoods (we have technically five of these at different heights, not all complete)\n",
        "m.add(Flatten()) # flattening middle layer\n",
        "# since we needed four bits with just the perceptrons, this thing is unlikely to do with less\n",
        "m.add(Dense(10, activation = 'softmax')) # one-hot output layer"
      ],
      "metadata": {
        "id": "cdq9wk4iWBnA"
      },
      "execution_count": null,
      "outputs": []
    },
    {
      "cell_type": "code",
      "source": [
        "tf.keras.utils.plot_model(m, show_shapes=True)"
      ],
      "metadata": {
        "colab": {
          "base_uri": "https://localhost:8080/",
          "height": 422
        },
        "id": "JuEeJNhqgS5Q",
        "outputId": "15409699-7352-45c9-aa80-2e7d2a44f4b9"
      },
      "execution_count": null,
      "outputs": [
        {
          "output_type": "execute_result",
          "data": {
            "image/png": "[encoded data removed]",
            "text/plain": [
              "<IPython.core.display.Image object>"
            ]
          },
          "metadata": {},
          "execution_count": 74
        }
      ]
    },
    {
      "cell_type": "markdown",
      "source": [
        "What did we just build?"
      ],
      "metadata": {
        "id": "jtmTiWLjfp5p"
      }
    },
    {
      "cell_type": "code",
      "source": [
        "!pip install visualkeras"
      ],
      "metadata": {
        "colab": {
          "base_uri": "https://localhost:8080/"
        },
        "id": "TtY6f6sBfrTk",
        "outputId": "4e97c6b8-5630-4a02-db3c-f5ad2b73dedb"
      },
      "execution_count": null,
      "outputs": [
        {
          "output_type": "stream",
          "name": "stdout",
          "text": [
            "Requirement already satisfied: visualkeras in /usr/local/lib/python3.10/dist-packages (0.0.2)\n",
            "Requirement already satisfied: pillow>=6.2.0 in /usr/local/lib/python3.10/dist-packages (from visualkeras) (9.4.0)\n",
            "Requirement already satisfied: numpy>=1.18.1 in /usr/local/lib/python3.10/dist-packages (from visualkeras) (1.23.5)\n",
            "Requirement already satisfied: aggdraw>=1.3.11 in /usr/local/lib/python3.10/dist-packages (from visualkeras) (1.3.18)\n"
          ]
        }
      ]
    },
    {
      "cell_type": "code",
      "source": [
        "import visualkeras\n",
        "visualkeras.layered_view(m, legend = True)"
      ],
      "metadata": {
        "colab": {
          "base_uri": "https://localhost:8080/",
          "height": 132
        },
        "id": "YOsotHCPWn_X",
        "outputId": "f0a37a3c-e6ec-4da7-94b8-52c62c0b060c"
      },
      "execution_count": null,
      "outputs": [
        {
          "output_type": "execute_result",
          "data": {
            "text/plain": [
              "<PIL.Image.Image image mode=RGBA size=107x115>"
            ],
            "image/png": "[encoded data removed]"
          },
          "metadata": {},
          "execution_count": 76
        }
      ]
    },
    {
      "cell_type": "markdown",
      "source": [
        "We need to pick\n",
        "\n",
        "1.  an [optimizer](https://keras.io/optimizers/) to determine the logic of the training process (with elegant stuff when necesary),\n",
        "2.  a [loss function](https://keras.io/losses/),\n",
        "3.  and performance measures to report."
      ],
      "metadata": {
        "id": "fOEyd6Pfkraq"
      }
    },
    {
      "cell_type": "code",
      "source": [
        "m.compile(optimizer = 'adam', # an algorithm to use to carry out the model training\n",
        "          loss = 'categorical_crossentropy', # an error measurement to minimize during the training process\n",
        "          metrics = ['accuracy']) # the performance measures we want reported"
      ],
      "metadata": {
        "id": "dL0Bml5Bc55c"
      },
      "execution_count": null,
      "outputs": []
    },
    {
      "cell_type": "code",
      "source": [
        "import keras.utils\n",
        "ty = keras.utils.to_categorical(y, num_classes = 10) # we have ten digits / classes\n",
        "print(y[:5])\n",
        "print(ty[:10]) # one-hot encoding"
      ],
      "metadata": {
        "colab": {
          "base_uri": "https://localhost:8080/"
        },
        "id": "ttVEoM1En_nR",
        "outputId": "7fbf2a05-bec5-4b16-9509-4e3add6a473e"
      },
      "execution_count": null,
      "outputs": [
        {
          "output_type": "stream",
          "name": "stdout",
          "text": [
            "[6 4 1 6 7]\n",
            "[[0. 0. 0. 0. 0. 0. 1. 0. 0. 0.]\n",
            " [0. 0. 0. 0. 1. 0. 0. 0. 0. 0.]\n",
            " [0. 1. 0. 0. 0. 0. 0. 0. 0. 0.]\n",
            " [0. 0. 0. 0. 0. 0. 1. 0. 0. 0.]\n",
            " [0. 0. 0. 0. 0. 0. 0. 1. 0. 0.]\n",
            " [1. 0. 0. 0. 0. 0. 0. 0. 0. 0.]\n",
            " [0. 0. 0. 0. 0. 0. 0. 0. 0. 1.]\n",
            " [0. 0. 1. 0. 0. 0. 0. 0. 0. 0.]\n",
            " [0. 0. 0. 0. 0. 0. 0. 0. 1. 0.]\n",
            " [0. 0. 0. 0. 1. 0. 0. 0. 0. 0.]]\n"
          ]
        }
      ]
    },
    {
      "cell_type": "code",
      "source": [
        "m.fit(X, ty, epochs = 10)"
      ],
      "metadata": {
        "colab": {
          "base_uri": "https://localhost:8080/"
        },
        "id": "VqBMl5PApiF6",
        "outputId": "06bea4a7-2cec-454b-f973-14da2ebcfeec"
      },
      "execution_count": null,
      "outputs": [
        {
          "output_type": "stream",
          "name": "stdout",
          "text": [
            "Epoch 1/10\n",
            "110/110 [==============================] - 2s 3ms/step - loss: 2.0897 - accuracy: 0.3134\n",
            "Epoch 2/10\n",
            "110/110 [==============================] - 0s 4ms/step - loss: 1.7707 - accuracy: 0.4857\n",
            "Epoch 3/10\n",
            "110/110 [==============================] - 0s 3ms/step - loss: 1.4764 - accuracy: 0.6829\n",
            "Epoch 4/10\n",
            "110/110 [==============================] - 0s 4ms/step - loss: 1.2114 - accuracy: 0.8334\n",
            "Epoch 5/10\n",
            "110/110 [==============================] - 1s 6ms/step - loss: 0.9893 - accuracy: 0.8623\n",
            "Epoch 6/10\n",
            "110/110 [==============================] - 1s 5ms/step - loss: 0.8100 - accuracy: 0.9163\n",
            "Epoch 7/10\n",
            "110/110 [==============================] - 1s 6ms/step - loss: 0.6671 - accuracy: 0.9234\n",
            "Epoch 8/10\n",
            "110/110 [==============================] - 1s 5ms/step - loss: 0.5521 - accuracy: 0.9443\n",
            "Epoch 9/10\n",
            "110/110 [==============================] - 1s 5ms/step - loss: 0.4609 - accuracy: 0.9571\n",
            "Epoch 10/10\n",
            "110/110 [==============================] - 1s 5ms/step - loss: 0.3886 - accuracy: 0.9634\n"
          ]
        },
        {
          "output_type": "execute_result",
          "data": {
            "text/plain": [
              "<keras.src.callbacks.History at 0x79f3e228a440>"
            ]
          },
          "metadata": {},
          "execution_count": 79
        }
      ]
    },
    {
      "cell_type": "markdown",
      "source": [
        "Seems to do better in terms of accuracy than our simple stack of perceptrons 😀\n",
        "\n",
        "For evaluation of a neural network, we should **cross-validate** so that we do not just rely on one training-testing split."
      ],
      "metadata": {
        "id": "OtxuAvL9lVyf"
      }
    },
    {
      "cell_type": "code",
      "source": [
        "!pip install scikeras"
      ],
      "metadata": {
        "colab": {
          "base_uri": "https://localhost:8080/"
        },
        "id": "SWQD9Vf3ijXN",
        "outputId": "1cba8f4c-06d8-4c41-f675-805a60c3d666"
      },
      "execution_count": null,
      "outputs": [
        {
          "output_type": "stream",
          "name": "stdout",
          "text": [
            "Requirement already satisfied: scikeras in /usr/local/lib/python3.10/dist-packages (0.12.0)\n",
            "Requirement already satisfied: packaging>=0.21 in /usr/local/lib/python3.10/dist-packages (from scikeras) (23.2)\n",
            "Requirement already satisfied: scikit-learn>=1.0.0 in /usr/local/lib/python3.10/dist-packages (from scikeras) (1.2.2)\n",
            "Requirement already satisfied: numpy>=1.17.3 in /usr/local/lib/python3.10/dist-packages (from scikit-learn>=1.0.0->scikeras) (1.23.5)\n",
            "Requirement already satisfied: scipy>=1.3.2 in /usr/local/lib/python3.10/dist-packages (from scikit-learn>=1.0.0->scikeras) (1.11.3)\n",
            "Requirement already satisfied: joblib>=1.1.1 in /usr/local/lib/python3.10/dist-packages (from scikit-learn>=1.0.0->scikeras) (1.3.2)\n",
            "Requirement already satisfied: threadpoolctl>=2.0.0 in /usr/local/lib/python3.10/dist-packages (from scikit-learn>=1.0.0->scikeras) (3.2.0)\n"
          ]
        }
      ]
    },
    {
      "cell_type": "code",
      "source": [
        "from scikeras.wrappers import KerasClassifier"
      ],
      "metadata": {
        "id": "XE_43OwyiYvy"
      },
      "execution_count": null,
      "outputs": []
    },
    {
      "cell_type": "code",
      "source": [
        "estimator = KerasClassifier(m, epochs = 5, batch_size = 5) # more epochs -> more training -> slower"
      ],
      "metadata": {
        "id": "RIidZRhhiUPa"
      },
      "execution_count": null,
      "outputs": []
    },
    {
      "cell_type": "code",
      "source": [
        "from sklearn.model_selection import KFold\n",
        "from sklearn.model_selection import cross_val_score"
      ],
      "metadata": {
        "id": "lXqFOxZ1jBQt"
      },
      "execution_count": null,
      "outputs": []
    },
    {
      "cell_type": "code",
      "source": [
        "kfold = KFold(n_splits = 3, shuffle = True) # the more splits, the longer this takes\n",
        "results = cross_val_score(estimator, X, ty, cv = kfold)"
      ],
      "metadata": {
        "colab": {
          "base_uri": "https://localhost:8080/"
        },
        "id": "SXo6KpYCiSWh",
        "outputId": "493be1df-2504-40db-f175-19f57621ec24"
      },
      "execution_count": null,
      "outputs": [
        {
          "output_type": "stream",
          "name": "stdout",
          "text": [
            "Epoch 1/5\n",
            "467/467 [==============================] - 3s 6ms/step - loss: 0.2865 - accuracy: 0.9653\n",
            "Epoch 2/5\n",
            "467/467 [==============================] - 4s 8ms/step - loss: 0.1996 - accuracy: 0.9704\n",
            "Epoch 3/5\n",
            "467/467 [==============================] - 2s 5ms/step - loss: 0.1596 - accuracy: 0.9717\n",
            "Epoch 4/5\n",
            "467/467 [==============================] - 3s 6ms/step - loss: 0.1369 - accuracy: 0.9721\n",
            "Epoch 5/5\n",
            "467/467 [==============================] - 2s 5ms/step - loss: 0.1230 - accuracy: 0.9751\n",
            "234/234 [==============================] - 1s 4ms/step\n",
            "Epoch 1/5\n",
            "467/467 [==============================] - 4s 7ms/step - loss: 0.2772 - accuracy: 0.9687\n",
            "Epoch 2/5\n",
            "467/467 [==============================] - 2s 4ms/step - loss: 0.1886 - accuracy: 0.9739\n",
            "Epoch 3/5\n",
            "467/467 [==============================] - 2s 4ms/step - loss: 0.1486 - accuracy: 0.9751\n",
            "Epoch 4/5\n",
            "467/467 [==============================] - 2s 5ms/step - loss: 0.1269 - accuracy: 0.9769\n",
            "Epoch 5/5\n",
            "467/467 [==============================] - 2s 4ms/step - loss: 0.1124 - accuracy: 0.9790\n",
            "234/234 [==============================] - 1s 2ms/step\n",
            "Epoch 1/5\n",
            "467/467 [==============================] - 2s 3ms/step - loss: 0.2802 - accuracy: 0.9674\n",
            "Epoch 2/5\n",
            "467/467 [==============================] - 1s 3ms/step - loss: 0.1943 - accuracy: 0.9726\n",
            "Epoch 3/5\n",
            "467/467 [==============================] - 1s 3ms/step - loss: 0.1557 - accuracy: 0.9756\n",
            "Epoch 4/5\n",
            "467/467 [==============================] - 1s 3ms/step - loss: 0.1342 - accuracy: 0.9751\n",
            "Epoch 5/5\n",
            "467/467 [==============================] - 2s 3ms/step - loss: 0.1200 - accuracy: 0.9760\n",
            "234/234 [==============================] - 0s 2ms/step\n"
          ]
        }
      ]
    },
    {
      "cell_type": "markdown",
      "source": [
        "We can now try it out with whatever images we like."
      ],
      "metadata": {
        "id": "fGYalGhxeaQ7"
      }
    },
    {
      "cell_type": "code",
      "source": [
        "input = np.matrix([ [1, 1, 1], [0, 0, 1], [0, 0, 1], [0, 0, 1], [0, 0, 1] ])\n",
        "print(input)\n",
        "print(input.shape)\n",
        "input = np.expand_dims(input, axis = 0) # need to make it Conv2D compatible\n",
        "input = np.expand_dims(input, axis = -1)\n",
        "print(input.shape)\n",
        "output = m.predict(input)\n",
        "print(output)"
      ],
      "metadata": {
        "colab": {
          "base_uri": "https://localhost:8080/"
        },
        "id": "1PYfUfI-uAR4",
        "outputId": "f3d7479c-b49f-4a3c-d369-4d634b520a8d"
      },
      "execution_count": null,
      "outputs": [
        {
          "output_type": "stream",
          "name": "stdout",
          "text": [
            "[[1 1 1]\n",
            " [0 0 1]\n",
            " [0 0 1]\n",
            " [0 0 1]\n",
            " [0 0 1]]\n",
            "(5, 3)\n",
            "(1, 5, 3, 1)\n",
            "1/1 [==============================] - 0s 25ms/step\n",
            "[[8.24123737e-04 1.02031045e-01 2.28545774e-04 1.93726905e-02\n",
            "  5.30131510e-04 5.66486742e-05 6.56189513e-06 8.71636510e-01\n",
            "  4.25333303e-04 4.88851918e-03]]\n"
          ]
        }
      ]
    },
    {
      "cell_type": "markdown",
      "source": [
        "What is that output supposed to mean? That is the one-hot encoding for 0, 1, ..., 8, 9"
      ],
      "metadata": {
        "id": "EsLrk-6KvT1C"
      }
    },
    {
      "cell_type": "code",
      "source": [
        "output[0].argmax() # find out the index"
      ],
      "metadata": {
        "colab": {
          "base_uri": "https://localhost:8080/"
        },
        "id": "FCuLUZ-BvWoy",
        "outputId": "956ef685-438e-40bb-86cb-0fcbede29365"
      },
      "execution_count": null,
      "outputs": [
        {
          "output_type": "execute_result",
          "data": {
            "text/plain": [
              "7"
            ]
          },
          "metadata": {},
          "execution_count": 90
        }
      ]
    },
    {
      "cell_type": "markdown",
      "source": [
        "Let's make it so that we see the images and the labels that the model **predicts** for them"
      ],
      "metadata": {
        "id": "bOq3PoIbuDJY"
      }
    },
    {
      "cell_type": "code",
      "source": [
        "def fix(input): # need to make it Conv2D compatible\n",
        "  input = np.matrix(input)\n",
        "  input = np.expand_dims(input, axis = 0)\n",
        "  input = np.expand_dims(input, axis = -1)\n",
        "  return input\n",
        "\n",
        "def interpret(output):\n",
        "  return output[0].argmax()\n",
        "\n",
        "w = 8 # how many images side by side\n",
        "h = 6 # how many rows of images\n",
        "\n",
        "import matplotlib.pyplot as plt\n",
        "import matplotlib.cm as cm # colormap\n",
        "\n",
        "f, a = plt.subplots(h, w, figsize = (w, h), dpi = 100)\n",
        "plt.subplots_adjust(left = None, bottom = None, right = None, top = None, wspace = None, hspace = 0.4)\n",
        "for row in range(h):\n",
        "  for col in range(w):\n",
        "    d = randint(0, 9) # pick a digit\n",
        "    pixels = (1 * (np.random.rand(dim) < template.iloc[d])) # generate the pixels\n",
        "    img = pixels.values.reshape(r, c) # make it into a shape to draw\n",
        "    i = fix(np.asarray(pixels).reshape(r, c))\n",
        "    o = interpret(m.predict(i)) # ask the model for the output\n",
        "    a[row, col].pcolormesh(img, edgecolors = 'gray', cmap = cm.Greys)\n",
        "    a[row, col].set_title(f'{d} vs {o}')\n",
        "    a[row, col].axis('off')\n",
        "    a[row, col].invert_yaxis()"
      ],
      "metadata": {
        "colab": {
          "base_uri": "https://localhost:8080/",
          "height": 1000
        },
        "id": "gUcpchEddyED",
        "outputId": "a0772339-2842-45a2-cfbc-d9314d5db5d4"
      },
      "execution_count": null,
      "outputs": [
        {
          "output_type": "stream",
          "name": "stdout",
          "text": [
            "1/1 [==============================] - 0s 28ms/step\n",
            "1/1 [==============================] - 0s 22ms/step\n",
            "1/1 [==============================] - 0s 23ms/step\n",
            "1/1 [==============================] - 0s 21ms/step\n",
            "1/1 [==============================] - 0s 22ms/step\n",
            "1/1 [==============================] - 0s 22ms/step\n",
            "1/1 [==============================] - 0s 28ms/step\n",
            "1/1 [==============================] - 0s 26ms/step\n",
            "1/1 [==============================] - 0s 33ms/step\n",
            "1/1 [==============================] - 0s 47ms/step\n",
            "1/1 [==============================] - 0s 36ms/step\n",
            "1/1 [==============================] - 0s 26ms/step\n",
            "1/1 [==============================] - 0s 25ms/step\n",
            "1/1 [==============================] - 0s 22ms/step\n",
            "1/1 [==============================] - 0s 26ms/step\n",
            "1/1 [==============================] - 0s 22ms/step\n",
            "1/1 [==============================] - 0s 25ms/step\n",
            "1/1 [==============================] - 0s 24ms/step\n",
            "1/1 [==============================] - 0s 40ms/step\n",
            "1/1 [==============================] - 0s 69ms/step\n",
            "1/1 [==============================] - 0s 45ms/step\n",
            "1/1 [==============================] - 0s 39ms/step\n",
            "1/1 [==============================] - 0s 45ms/step\n",
            "1/1 [==============================] - 0s 34ms/step\n",
            "1/1 [==============================] - 0s 57ms/step\n",
            "1/1 [==============================] - 0s 45ms/step\n",
            "1/1 [==============================] - 0s 44ms/step\n",
            "1/1 [==============================] - 0s 40ms/step\n",
            "1/1 [==============================] - 0s 34ms/step\n",
            "1/1 [==============================] - 0s 80ms/step\n",
            "1/1 [==============================] - 0s 32ms/step\n",
            "1/1 [==============================] - 0s 33ms/step\n",
            "1/1 [==============================] - 0s 34ms/step\n",
            "1/1 [==============================] - 0s 34ms/step\n",
            "1/1 [==============================] - 0s 36ms/step\n",
            "1/1 [==============================] - 0s 34ms/step\n",
            "1/1 [==============================] - 0s 34ms/step\n",
            "1/1 [==============================] - 0s 44ms/step\n",
            "1/1 [==============================] - 0s 36ms/step\n",
            "1/1 [==============================] - 0s 40ms/step\n",
            "1/1 [==============================] - 0s 46ms/step\n",
            "1/1 [==============================] - 0s 42ms/step\n",
            "1/1 [==============================] - 0s 34ms/step\n",
            "1/1 [==============================] - 0s 31ms/step\n",
            "1/1 [==============================] - 0s 33ms/step\n",
            "1/1 [==============================] - 0s 36ms/step\n",
            "1/1 [==============================] - 0s 32ms/step\n",
            "1/1 [==============================] - 0s 73ms/step\n"
          ]
        },
        {
          "output_type": "display_data",
          "data": {
            "text/plain": [
              "<Figure size 800x600 with 48 Axes>"
            ],
            "image/png": "[encoded data removed]"
          },
          "metadata": {}
        }
      ]
    }
  ]
}