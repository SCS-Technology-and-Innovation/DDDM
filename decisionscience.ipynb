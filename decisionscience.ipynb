{
  "nbformat": 4,
  "nbformat_minor": 0,
  "metadata": {
    "colab": {
      "provenance": [],
      "authorship_tag": "ABX9TyPJ8k4dXJMSfOmuVoCeA+J+",
      "include_colab_link": true
    },
    "kernelspec": {
      "name": "python3",
      "display_name": "Python 3"
    },
    "language_info": {
      "name": "python"
    }
  },
  "cells": [
    {
      "cell_type": "markdown",
      "metadata": {
        "id": "view-in-github",
        "colab_type": "text"
      },
      "source": [
        "<a href=\"https://colab.research.google.com/github/SCS-Technology-and-Innovation/DDDM/blob/main/decisionscience.ipynb\" target=\"_parent\"><img src=\"https://colab.research.google.com/assets/colab-badge.svg\" alt=\"Open In Colab\"/></a>"
      ]
    },
    {
      "cell_type": "code",
      "execution_count": 1,
      "metadata": {
        "colab": {
          "base_uri": "https://localhost:8080/"
        },
        "id": "ry-zYdaJ-3uq",
        "outputId": "70c5b502-3767-4c37-c2e3-5f7d3c430549"
      },
      "outputs": [
        {
          "output_type": "stream",
          "name": "stdout",
          "text": [
            "Looking in indexes: https://pypi.org/simple, https://us-python.pkg.dev/colab-wheels/public/simple/\n",
            "Collecting pulp\n",
            "  Downloading PuLP-2.7.0-py3-none-any.whl (14.3 MB)\n",
            "\u001b[2K     \u001b[90m━━━━━━━━━━━━━━━━━━━━━━━━━━━━━━━━━━━━━━━━\u001b[0m \u001b[32m14.3/14.3 MB\u001b[0m \u001b[31m61.8 MB/s\u001b[0m eta \u001b[36m0:00:00\u001b[0m\n",
            "\u001b[?25hInstalling collected packages: pulp\n",
            "Successfully installed pulp-2.7.0\n"
          ]
        }
      ],
      "source": [
        "!pip install pulp"
      ]
    },
    {
      "cell_type": "markdown",
      "source": [
        "# Demo on how to use pulp\n",
        "\n",
        "Just to show how colab and github link together."
      ],
      "metadata": {
        "id": "czmJqKsSC3yW"
      }
    },
    {
      "cell_type": "code",
      "source": [
        "from pulp import *\n",
        "import pandas as pd\n",
        "import numpy as np\n",
        "n_warehouses = 2\n",
        "n_customers = 4\n",
        "\n",
        "# Cost Matrix\n",
        "cost_matrix = np.array([[1, 3, 0.5, 4],\n",
        "                       [2.5, 5, 1.5, 2.5]])\n",
        "# Demand Matrix\n",
        "cust_demands = np.array([35000, 22000, 18000, 30000])\n",
        "\n",
        "# Supply Matrix\n",
        "warehouse_supply = np.array([65000, 80000])\n",
        "model = LpProblem(\"Supply-Demand-Problem\", LpMinimize)\n",
        "variable_names = [str(i)+str(j) for j in range(1, n_customers+1) for i in range(1, n_warehouses+1)]\n",
        "variable_names.sort()\n",
        "print(\"Variable Indices:\", variable_names)\n",
        "DV_variables = LpVariable.matrix(\"X\", variable_names, cat = \"Integer\", lowBound= 0 )\n",
        "allocation = np.array(DV_variables).reshape(2,4)\n",
        "print(\"Decision Variable/Allocation Matrix: \")\n",
        "print(allocation)\n",
        "obj_func = lpSum(allocation*cost_matrix)\n",
        "print(obj_func)\n",
        "model +=  obj_func\n",
        "print(model)\n",
        "#Supply Constraints\n",
        "for i in range(n_warehouses):\n",
        "    print(lpSum(allocation[i][j] for j in range(n_customers)) <= warehouse_supply[i])\n",
        "    model += lpSum(allocation[i][j] for j in range(n_customers)) <= warehouse_supply[i] , \"Supply Constraints \" + str(i)\n",
        "for j in range(n_customers):\n",
        "    print(lpSum(allocation[i][j] for i in range(n_warehouses)) >= cust_demands[j])\n",
        "    model += lpSum(allocation[i][j] for i in range(n_warehouses)) >= cust_demands[j] , \"Demand Constraints \" + str(j)\n",
        "model.solve(PULP_CBC_CMD())\n",
        "\n",
        "status =  LpStatus[model.status]\n",
        "\n",
        "print(status)\n",
        "print(\"Total Cost:\", model.objective.value())\n",
        "\n",
        "# Decision Variables\n",
        "\n",
        "for v in model.variables():\n",
        "    try:\n",
        "        print(v.name,\"=\", v.value())\n",
        "    except:\n",
        "        print(\"error could not find value\")"
      ],
      "metadata": {
        "colab": {
          "base_uri": "https://localhost:8080/"
        },
        "id": "mXJSSFUR_Ps-",
        "outputId": "497da4bd-725a-44a6-8ad8-06897cbcaca2"
      },
      "execution_count": 2,
      "outputs": [
        {
          "output_type": "stream",
          "name": "stdout",
          "text": [
            "Variable Indices: ['11', '12', '13', '14', '21', '22', '23', '24']\n",
            "Decision Variable/Allocation Matrix: \n",
            "[[X_11 X_12 X_13 X_14]\n",
            " [X_21 X_22 X_23 X_24]]\n",
            "X_11 + 3.0*X_12 + 0.5*X_13 + 4.0*X_14 + 2.5*X_21 + 5.0*X_22 + 1.5*X_23 + 2.5*X_24\n",
            "Supply-Demand-Problem:\n",
            "MINIMIZE\n",
            "1.0*X_11 + 3.0*X_12 + 0.5*X_13 + 4.0*X_14 + 2.5*X_21 + 5.0*X_22 + 1.5*X_23 + 2.5*X_24 + 0.0\n",
            "VARIABLES\n",
            "0 <= X_11 Integer\n",
            "0 <= X_12 Integer\n",
            "0 <= X_13 Integer\n",
            "0 <= X_14 Integer\n",
            "0 <= X_21 Integer\n",
            "0 <= X_22 Integer\n",
            "0 <= X_23 Integer\n",
            "0 <= X_24 Integer\n",
            "\n",
            "X_11 + X_12 + X_13 + X_14 <= 65000\n",
            "X_21 + X_22 + X_23 + X_24 <= 80000\n",
            "X_11 + X_21 >= 35000\n",
            "X_12 + X_22 >= 22000\n",
            "X_13 + X_23 >= 18000\n",
            "X_14 + X_24 >= 30000\n",
            "Optimal\n",
            "Total Cost: 195000.0\n",
            "X_11 = 35000.0\n",
            "X_12 = 22000.0\n",
            "X_13 = 8000.0\n",
            "X_14 = 0.0\n",
            "X_21 = 0.0\n",
            "X_22 = 0.0\n",
            "X_23 = 10000.0\n",
            "X_24 = 30000.0\n"
          ]
        }
      ]
    },
    {
      "cell_type": "markdown",
      "source": [
        "[PULP Tutorial](https://towardsdatascience.com/linear-programming-using-python-priyansh-22b5ee888fe0#:~:text=Linear%20programming%20or%20linear%20optimization,varying%20set%20of%20decision%20variables.)"
      ],
      "metadata": {
        "id": "bqM8akus_6QH"
      }
    },
    {
      "cell_type": "code",
      "source": [
        "!pip install pyomo"
      ],
      "metadata": {
        "id": "M4T7Lh-cDO2F",
        "outputId": "8146e23f-f7c1-4595-a2df-a75ced1e420a",
        "colab": {
          "base_uri": "https://localhost:8080/"
        }
      },
      "execution_count": 4,
      "outputs": [
        {
          "output_type": "stream",
          "name": "stdout",
          "text": [
            "Looking in indexes: https://pypi.org/simple, https://us-python.pkg.dev/colab-wheels/public/simple/\n",
            "Collecting pyomo\n",
            "  Downloading Pyomo-6.4.4-cp38-cp38-manylinux_2_17_x86_64.manylinux2014_x86_64.whl (11.1 MB)\n",
            "\u001b[2K     \u001b[90m━━━━━━━━━━━━━━━━━━━━━━━━━━━━━━━━━━━━━━━━\u001b[0m \u001b[32m11.1/11.1 MB\u001b[0m \u001b[31m70.5 MB/s\u001b[0m eta \u001b[36m0:00:00\u001b[0m\n",
            "\u001b[?25hCollecting ply\n",
            "  Downloading ply-3.11-py2.py3-none-any.whl (49 kB)\n",
            "\u001b[2K     \u001b[90m━━━━━━━━━━━━━━━━━━━━━━━━━━━━━━━━━━━━━━━━\u001b[0m \u001b[32m49.6/49.6 KB\u001b[0m \u001b[31m6.4 MB/s\u001b[0m eta \u001b[36m0:00:00\u001b[0m\n",
            "\u001b[?25hInstalling collected packages: ply, pyomo\n",
            "Successfully installed ply-3.11 pyomo-6.4.4\n"
          ]
        }
      ]
    },
    {
      "cell_type": "code",
      "source": [
        "from pyomo.environ import *\n",
        "\n",
        "model = AbstractModel()\n",
        "# Nodes in the network\n",
        "model.N = Set()\n",
        "# Network arcs\n",
        "model.A = Set(within=model.N*model.N)\n",
        "# the rest is missing"
      ],
      "metadata": {
        "id": "j8DTpECZDJiu"
      },
      "execution_count": 5,
      "outputs": []
    },
    {
      "cell_type": "markdown",
      "source": [
        "The pyomo stuff above is from [another repo](https://github.com/Pyomo/PyomoGallery/blob/master/maxflow/maxflow.ipynb)"
      ],
      "metadata": {
        "id": "jiWQtJ8JDZAt"
      }
    }
  ]
}